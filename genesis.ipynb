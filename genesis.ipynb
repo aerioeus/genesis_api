{
 "cells": [
  {
   "cell_type": "code",
   "execution_count": 43,
   "metadata": {},
   "outputs": [
    {
     "name": "stdout",
     "output_type": "stream",
     "text": [
      "https://www-genesis.destatis.de/genesisWS/rest/2020/data/timeseries?username=DE17T29R57&password=4Bf/3Ap)3]r2,,h&name=62221BV002&area=all&contents=VST066&startyear=2018&classifyingvariable1=WZ08C7&classifyingkey1=WZ08-D-06&language=de\n"
     ]
    }
   ],
   "source": [
    "import json\n",
    "import boto3\n",
    "import requests\n",
    "from rich import print as rprint\n",
    "\n",
    "genesis_url = 'https://www-genesis.destatis.de/genesisWS/rest/2020/data/timeseries?'\n",
    "user_id = 'DE17T29R57'\n",
    "password = '4Bf/3Ap)3]r2,,h'\n",
    "tab_code = '62221BV002'\n",
    "area_type = 'all'\n",
    "content = 'VST066'\n",
    "start_year = '2018'\n",
    "classifiyer1 = 'WZ08C7'\n",
    "classifyingkey1 = 'WZ08-D-06'\n",
    "lang = 'en'\n",
    "\n",
    "# Open Weather Map API URL\n",
    "destatis = f\"{genesis_url}username={user_id}&password={password}&name={tab_code}&area={area_type}&compress=true&contents={content}&startyear={start_year}&classifyingvariable1={classifiyer1}&classifyingkey1={classifyingkey1}&language={lang}\"\n",
    "print(URL)"
   ]
  },
  {
   "cell_type": "code",
   "execution_count": 44,
   "metadata": {},
   "outputs": [
    {
     "data": {
      "text/html": [
       "<pre style=\"white-space:pre;overflow-x:auto;line-height:normal;font-family:Menlo,'DejaVu Sans Mono',consolas,'Courier New',monospace\"><span style=\"font-weight: bold\">{</span>\n",
       "    <span style=\"color: #008000; text-decoration-color: #008000\">'Ident'</span>: <span style=\"font-weight: bold\">{</span><span style=\"color: #008000; text-decoration-color: #008000\">'Service'</span>: <span style=\"color: #008000; text-decoration-color: #008000\">'data'</span>, <span style=\"color: #008000; text-decoration-color: #008000\">'Method'</span>: <span style=\"color: #008000; text-decoration-color: #008000\">'timeseries'</span><span style=\"font-weight: bold\">}</span>,\n",
       "    <span style=\"color: #008000; text-decoration-color: #008000\">'Status'</span>: <span style=\"font-weight: bold\">{</span>\n",
       "        <span style=\"color: #008000; text-decoration-color: #008000\">'Code'</span>: <span style=\"color: #008080; text-decoration-color: #008080; font-weight: bold\">22</span>,\n",
       "        <span style=\"color: #008000; text-decoration-color: #008000\">'Content'</span>: <span style=\"color: #008000; text-decoration-color: #008000\">'successfull (At least one parameter contains invalid values. It was </span>\n",
       "<span style=\"color: #008000; text-decoration-color: #008000\">changed to perform the service.: regionalschluesselcode, sachschluesselcode, </span>\n",
       "<span style=\"color: #008000; text-decoration-color: #008000\">sachschluesselcode2, sachschluesselcode3)'</span>,\n",
       "        <span style=\"color: #008000; text-decoration-color: #008000\">'Type'</span>: <span style=\"color: #008000; text-decoration-color: #008000\">'Warnung'</span>\n",
       "    <span style=\"font-weight: bold\">}</span>,\n",
       "    <span style=\"color: #008000; text-decoration-color: #008000\">'Parameter'</span>: <span style=\"font-weight: bold\">{</span>\n",
       "        <span style=\"color: #008000; text-decoration-color: #008000\">'username'</span>: <span style=\"color: #008000; text-decoration-color: #008000\">'********************'</span>,\n",
       "        <span style=\"color: #008000; text-decoration-color: #008000\">'password'</span>: <span style=\"color: #008000; text-decoration-color: #008000\">'********************'</span>,\n",
       "        <span style=\"color: #008000; text-decoration-color: #008000\">'name'</span>: <span style=\"color: #008000; text-decoration-color: #008000\">'62221BV002'</span>,\n",
       "        <span style=\"color: #008000; text-decoration-color: #008000\">'area'</span>: <span style=\"color: #008000; text-decoration-color: #008000\">'all'</span>,\n",
       "        <span style=\"color: #008000; text-decoration-color: #008000\">'compress'</span>: <span style=\"color: #008000; text-decoration-color: #008000\">'true'</span>,\n",
       "        <span style=\"color: #008000; text-decoration-color: #008000\">'transpose'</span>: <span style=\"color: #008000; text-decoration-color: #008000\">'false'</span>,\n",
       "        <span style=\"color: #008000; text-decoration-color: #008000\">'contents'</span>: <span style=\"color: #008000; text-decoration-color: #008000\">'VST066'</span>,\n",
       "        <span style=\"color: #008000; text-decoration-color: #008000\">'startyear'</span>: <span style=\"color: #008000; text-decoration-color: #008000\">'2018'</span>,\n",
       "        <span style=\"color: #008000; text-decoration-color: #008000\">'endyear'</span>: <span style=\"color: #008000; text-decoration-color: #008000\">''</span>,\n",
       "        <span style=\"color: #008000; text-decoration-color: #008000\">'timeslices'</span>: <span style=\"color: #008000; text-decoration-color: #008000\">''</span>,\n",
       "        <span style=\"color: #008000; text-decoration-color: #008000\">'regionalvariable'</span>: <span style=\"color: #008000; text-decoration-color: #008000\">''</span>,\n",
       "        <span style=\"color: #008000; text-decoration-color: #008000\">'regionalkey'</span>: <span style=\"color: #008000; text-decoration-color: #008000\">''</span>,\n",
       "        <span style=\"color: #008000; text-decoration-color: #008000\">'classifyingvariable1'</span>: <span style=\"color: #008000; text-decoration-color: #008000\">'WZ08C7'</span>,\n",
       "        <span style=\"color: #008000; text-decoration-color: #008000\">'classifyingkey1'</span>: <span style=\"color: #008000; text-decoration-color: #008000\">'WZ08-D-06'</span>,\n",
       "        <span style=\"color: #008000; text-decoration-color: #008000\">'classifyingvariable2'</span>: <span style=\"color: #008000; text-decoration-color: #008000\">''</span>,\n",
       "        <span style=\"color: #008000; text-decoration-color: #008000\">'classifyingkey2'</span>: <span style=\"color: #008000; text-decoration-color: #008000\">''</span>,\n",
       "        <span style=\"color: #008000; text-decoration-color: #008000\">'classifyingvariable3'</span>: <span style=\"color: #008000; text-decoration-color: #008000\">''</span>,\n",
       "        <span style=\"color: #008000; text-decoration-color: #008000\">'classifyingkey3'</span>: <span style=\"color: #008000; text-decoration-color: #008000\">''</span>,\n",
       "        <span style=\"color: #008000; text-decoration-color: #008000\">'job'</span>: <span style=\"color: #008000; text-decoration-color: #008000\">'false'</span>,\n",
       "        <span style=\"color: #008000; text-decoration-color: #008000\">'stand'</span>: <span style=\"color: #008000; text-decoration-color: #008000\">'01.01.1970 01:00'</span>,\n",
       "        <span style=\"color: #008000; text-decoration-color: #008000\">'language'</span>: <span style=\"color: #008000; text-decoration-color: #008000\">'en'</span>\n",
       "    <span style=\"font-weight: bold\">}</span>,\n",
       "    <span style=\"color: #008000; text-decoration-color: #008000\">'Object'</span>: <span style=\"font-weight: bold\">{</span>\n",
       "        <span style=\"color: #008000; text-decoration-color: #008000\">'Content'</span>: <span style=\"color: #008000; text-decoration-color: #008000\">'GENESIS-Tabelle: Temporär\\nVj. Index der Tarifverdienste und </span>\n",
       "<span style=\"color: #008000; text-decoration-color: #008000\">Arbeitszeiten;;;;;;;;;;;;;;;;;;\\nZeitreihe aus 62221BV002;;;;;;;;;;;;;;;;;;\\nVj. Index der </span>\n",
       "<span style=\"color: #008000; text-decoration-color: #008000\">Tarifverdienste und Arbeitszeiten;;;;;;;;;;;;;;;;;;\\n;;;;Jahr;Jahr;Jahr;Jahr;Jahr;Jahr;Jahr;J</span>\n",
       "<span style=\"color: #008000; text-decoration-color: #008000\">ahr;Jahr;Jahr;Jahr;Jahr;Jahr;Jahr;Jahr\\n;;;;2018;2018;2018;2018;2019;2019;2019;2019;2020;2020</span>\n",
       "<span style=\"color: #008000; text-decoration-color: #008000\">;2020;2020;2021;2021;2021\\n;;;;Quartale;Quartale;Quartale;Quartale;Quartale;Quartale;Quartale</span>\n",
       "<span style=\"color: #008000; text-decoration-color: #008000\">;Quartale;Quartale;Quartale;Quartale;Quartale;Quartale;Quartale;Quartale\\n;;;;1. Quartal;2. </span>\n",
       "<span style=\"color: #008000; text-decoration-color: #008000\">Quartal;3. Quartal;4. Quartal;1. Quartal;2. Quartal;3. Quartal;4. Quartal;1. Quartal;2. </span>\n",
       "<span style=\"color: #008000; text-decoration-color: #008000\">Quartal;3. Quartal;4. Quartal;1. Quartal;2. Quartal;3. Quartal\\nFrüheres </span>\n",
       "<span style=\"color: #008000; text-decoration-color: #008000\">Bundesgebiet;Energie- und Wasserversorgung;Index d.tarifl. Monatsverdienste ohne Sonderzahl.;</span>\n",
       "<span style=\"color: #008000; text-decoration-color: #008000\">2020=100;93,5;93,9;95,3;96,0;96,3;98,5;98,7;99,0;99,3;100,1;100,3;100,3;100,6;102,0;102,1\\nNe</span>\n",
       "<span style=\"color: #008000; text-decoration-color: #008000\">ue Länder;Energie- und Wasserversorgung;Index d.tarifl. Monatsverdienste ohne Sonderzahl.;202</span>\n",
       "<span style=\"color: #008000; text-decoration-color: #008000\">0=100;94,9;94,9;95,5;96,1;96,4;98,8;98,9;98,9;99,1;99,5;100,5;100,9;101,0;101,8;102,6\\n______</span>\n",
       "<span style=\"color: #008000; text-decoration-color: #008000\">____\\n© Statistisches Bundesamt (Destatis), 2021\\nStand: 19.12.2021 / 18:09:42\\n'</span>\n",
       "    <span style=\"font-weight: bold\">}</span>,\n",
       "    <span style=\"color: #008000; text-decoration-color: #008000\">'Copyright'</span>: <span style=\"color: #008000; text-decoration-color: #008000\">'© Federal Statistical Office, Wiesbaden 2021'</span>\n",
       "<span style=\"font-weight: bold\">}</span>\n",
       "</pre>\n"
      ],
      "text/plain": [
       "\u001b[1m{\u001b[0m\n",
       "    \u001b[32m'Ident'\u001b[0m: \u001b[1m{\u001b[0m\u001b[32m'Service'\u001b[0m: \u001b[32m'data'\u001b[0m, \u001b[32m'Method'\u001b[0m: \u001b[32m'timeseries'\u001b[0m\u001b[1m}\u001b[0m,\n",
       "    \u001b[32m'Status'\u001b[0m: \u001b[1m{\u001b[0m\n",
       "        \u001b[32m'Code'\u001b[0m: \u001b[1;36m22\u001b[0m,\n",
       "        \u001b[32m'Content'\u001b[0m: \u001b[32m'successfull \u001b[0m\u001b[32m(\u001b[0m\u001b[32mAt least one parameter contains invalid values. It was \u001b[0m\n",
       "\u001b[32mchanged to perform the service.: regionalschluesselcode, sachschluesselcode, \u001b[0m\n",
       "\u001b[32msachschluesselcode2, sachschluesselcode3\u001b[0m\u001b[32m)\u001b[0m\u001b[32m'\u001b[0m,\n",
       "        \u001b[32m'Type'\u001b[0m: \u001b[32m'Warnung'\u001b[0m\n",
       "    \u001b[1m}\u001b[0m,\n",
       "    \u001b[32m'Parameter'\u001b[0m: \u001b[1m{\u001b[0m\n",
       "        \u001b[32m'username'\u001b[0m: \u001b[32m'********************'\u001b[0m,\n",
       "        \u001b[32m'password'\u001b[0m: \u001b[32m'********************'\u001b[0m,\n",
       "        \u001b[32m'name'\u001b[0m: \u001b[32m'62221BV002'\u001b[0m,\n",
       "        \u001b[32m'area'\u001b[0m: \u001b[32m'all'\u001b[0m,\n",
       "        \u001b[32m'compress'\u001b[0m: \u001b[32m'true'\u001b[0m,\n",
       "        \u001b[32m'transpose'\u001b[0m: \u001b[32m'false'\u001b[0m,\n",
       "        \u001b[32m'contents'\u001b[0m: \u001b[32m'VST066'\u001b[0m,\n",
       "        \u001b[32m'startyear'\u001b[0m: \u001b[32m'2018'\u001b[0m,\n",
       "        \u001b[32m'endyear'\u001b[0m: \u001b[32m''\u001b[0m,\n",
       "        \u001b[32m'timeslices'\u001b[0m: \u001b[32m''\u001b[0m,\n",
       "        \u001b[32m'regionalvariable'\u001b[0m: \u001b[32m''\u001b[0m,\n",
       "        \u001b[32m'regionalkey'\u001b[0m: \u001b[32m''\u001b[0m,\n",
       "        \u001b[32m'classifyingvariable1'\u001b[0m: \u001b[32m'WZ08C7'\u001b[0m,\n",
       "        \u001b[32m'classifyingkey1'\u001b[0m: \u001b[32m'WZ08-D-06'\u001b[0m,\n",
       "        \u001b[32m'classifyingvariable2'\u001b[0m: \u001b[32m''\u001b[0m,\n",
       "        \u001b[32m'classifyingkey2'\u001b[0m: \u001b[32m''\u001b[0m,\n",
       "        \u001b[32m'classifyingvariable3'\u001b[0m: \u001b[32m''\u001b[0m,\n",
       "        \u001b[32m'classifyingkey3'\u001b[0m: \u001b[32m''\u001b[0m,\n",
       "        \u001b[32m'job'\u001b[0m: \u001b[32m'false'\u001b[0m,\n",
       "        \u001b[32m'stand'\u001b[0m: \u001b[32m'01.01.1970 01:00'\u001b[0m,\n",
       "        \u001b[32m'language'\u001b[0m: \u001b[32m'en'\u001b[0m\n",
       "    \u001b[1m}\u001b[0m,\n",
       "    \u001b[32m'Object'\u001b[0m: \u001b[1m{\u001b[0m\n",
       "        \u001b[32m'Content'\u001b[0m: \u001b[32m'GENESIS-Tabelle: Temporär\\nVj. Index der Tarifverdienste und \u001b[0m\n",
       "\u001b[32mArbeitszeiten;;;;;;;;;;;;;;;;;;\\nZeitreihe aus 62221BV002;;;;;;;;;;;;;;;;;;\\nVj. Index der \u001b[0m\n",
       "\u001b[32mTarifverdienste und Arbeitszeiten;;;;;;;;;;;;;;;;;;\\n;;;;Jahr;Jahr;Jahr;Jahr;Jahr;Jahr;Jahr;J\u001b[0m\n",
       "\u001b[32mahr;Jahr;Jahr;Jahr;Jahr;Jahr;Jahr;Jahr\\n;;;;2018;2018;2018;2018;2019;2019;2019;2019;2020;2020\u001b[0m\n",
       "\u001b[32m;2020;2020;2021;2021;2021\\n;;;;Quartale;Quartale;Quartale;Quartale;Quartale;Quartale;Quartale\u001b[0m\n",
       "\u001b[32m;Quartale;Quartale;Quartale;Quartale;Quartale;Quartale;Quartale;Quartale\\n;;;;1. Quartal;2. \u001b[0m\n",
       "\u001b[32mQuartal;3. Quartal;4. Quartal;1. Quartal;2. Quartal;3. Quartal;4. Quartal;1. Quartal;2. \u001b[0m\n",
       "\u001b[32mQuartal;3. Quartal;4. Quartal;1. Quartal;2. Quartal;3. Quartal\\nFrüheres \u001b[0m\n",
       "\u001b[32mBundesgebiet;Energie- und Wasserversorgung;Index d.tarifl. Monatsverdienste ohne Sonderzahl.;\u001b[0m\n",
       "\u001b[32m2020\u001b[0m\u001b[32m=\u001b[0m\u001b[32m100\u001b[0m\u001b[32m;93,5;93,9;95,3;96,0;96,3;98,5;98,7;99,0;99,3;100,1;100,3;100,3;100,6;102,0;102,1\\nNe\u001b[0m\n",
       "\u001b[32mue Länder;Energie- und Wasserversorgung;Index d.tarifl. Monatsverdienste ohne Sonderzahl.;\u001b[0m\u001b[32m202\u001b[0m\n",
       "\u001b[32m0\u001b[0m\u001b[32m=\u001b[0m\u001b[32m100\u001b[0m\u001b[32m;94,9;94,9;95,5;96,1;96,4;98,8;98,9;98,9;99,1;99,5;100,5;100,9;101,0;101,8;102,6\\n______\u001b[0m\n",
       "\u001b[32m____\\n© Statistisches Bundesamt \u001b[0m\u001b[32m(\u001b[0m\u001b[32mDestatis\u001b[0m\u001b[32m)\u001b[0m\u001b[32m, 2021\\nStand: 19.12.2021 / 18:09:42\\n'\u001b[0m\n",
       "    \u001b[1m}\u001b[0m,\n",
       "    \u001b[32m'Copyright'\u001b[0m: \u001b[32m'© Federal Statistical Office, Wiesbaden 2021'\u001b[0m\n",
       "\u001b[1m}\u001b[0m\n"
      ]
     },
     "metadata": {},
     "output_type": "display_data"
    },
    {
     "name": "stdout",
     "output_type": "stream",
     "text": [
      "{'Content': 'GENESIS-Tabelle: Temporär\\nVj. Index der Tarifverdienste und Arbeitszeiten;;;;;;;;;;;;;;;;;;\\nZeitreihe aus 62221BV002;;;;;;;;;;;;;;;;;;\\nVj. Index der Tarifverdienste und Arbeitszeiten;;;;;;;;;;;;;;;;;;\\n;;;;Jahr;Jahr;Jahr;Jahr;Jahr;Jahr;Jahr;Jahr;Jahr;Jahr;Jahr;Jahr;Jahr;Jahr;Jahr\\n;;;;2018;2018;2018;2018;2019;2019;2019;2019;2020;2020;2020;2020;2021;2021;2021\\n;;;;Quartale;Quartale;Quartale;Quartale;Quartale;Quartale;Quartale;Quartale;Quartale;Quartale;Quartale;Quartale;Quartale;Quartale;Quartale\\n;;;;1. Quartal;2. Quartal;3. Quartal;4. Quartal;1. Quartal;2. Quartal;3. Quartal;4. Quartal;1. Quartal;2. Quartal;3. Quartal;4. Quartal;1. Quartal;2. Quartal;3. Quartal\\nFrüheres Bundesgebiet;Energie- und Wasserversorgung;Index d.tarifl. Monatsverdienste ohne Sonderzahl.;2020=100;93,5;93,9;95,3;96,0;96,3;98,5;98,7;99,0;99,3;100,1;100,3;100,3;100,6;102,0;102,1\\nNeue Länder;Energie- und Wasserversorgung;Index d.tarifl. Monatsverdienste ohne Sonderzahl.;2020=100;94,9;94,9;95,5;96,1;96,4;98,8;98,9;98,9;99,1;99,5;100,5;100,9;101,0;101,8;102,6\\n__________\\n© Statistisches Bundesamt (Destatis), 2021\\nStand: 19.12.2021 / 18:09:42\\n'}\n"
     ]
    }
   ],
   "source": [
    "\n",
    " # store the response from the server in the variable called url\n",
    "url= requests.get(destatis)\n",
    "# response stored inside the url variable needs to be converted into a string with the help of the .text method as url.text\n",
    "# at the same time we convert it to json using json.loads()\n",
    "data = json.loads(url.text)\n",
    "rprint(data)\n",
    "content = data[\"Object\"]\n",
    "print(content)"
   ]
  },
  {
   "cell_type": "code",
   "execution_count": 45,
   "metadata": {},
   "outputs": [
    {
     "data": {
      "text/html": [
       "<div>\n",
       "<style scoped>\n",
       "    .dataframe tbody tr th:only-of-type {\n",
       "        vertical-align: middle;\n",
       "    }\n",
       "\n",
       "    .dataframe tbody tr th {\n",
       "        vertical-align: top;\n",
       "    }\n",
       "\n",
       "    .dataframe thead th {\n",
       "        text-align: right;\n",
       "    }\n",
       "</style>\n",
       "<table border=\"1\" class=\"dataframe\">\n",
       "  <thead>\n",
       "    <tr style=\"text-align: right;\">\n",
       "      <th></th>\n",
       "      <th>Content</th>\n",
       "    </tr>\n",
       "  </thead>\n",
       "  <tbody>\n",
       "    <tr>\n",
       "      <th>0</th>\n",
       "      <td>GENESIS-Tabelle: Temporär\\nVj. Index der Tarif...</td>\n",
       "    </tr>\n",
       "  </tbody>\n",
       "</table>\n",
       "</div>"
      ],
      "text/plain": [
       "                                             Content\n",
       "0  GENESIS-Tabelle: Temporär\\nVj. Index der Tarif..."
      ]
     },
     "execution_count": 45,
     "metadata": {},
     "output_type": "execute_result"
    }
   ],
   "source": [
    "import pandas as pd\n",
    "\n",
    "df = pd.json_normalize(content)\n",
    "df"
   ]
  }
 ],
 "metadata": {
  "interpreter": {
   "hash": "6ce68a94bf0a68e7d5dccccbdd20317119768fe41768ff016100de14d53dc0c8"
  },
  "kernelspec": {
   "display_name": "Python 3.8.8 64-bit ('iot': venv)",
   "language": "python",
   "name": "python3"
  },
  "language_info": {
   "codemirror_mode": {
    "name": "ipython",
    "version": 3
   },
   "file_extension": ".py",
   "mimetype": "text/x-python",
   "name": "python",
   "nbconvert_exporter": "python",
   "pygments_lexer": "ipython3",
   "version": "3.8.8"
  },
  "orig_nbformat": 4
 },
 "nbformat": 4,
 "nbformat_minor": 2
}
