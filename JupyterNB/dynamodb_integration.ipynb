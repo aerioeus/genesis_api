{
 "cells": [
  {
   "cell_type": "code",
   "execution_count": 1,
   "metadata": {
    "metadata": {}
   },
   "outputs": [],
   "source": [
    "# Import the necessary modules\n",
    "import json\n",
    "import requests\n",
    "import boto3\n",
    "from botocore.exceptions import NoCredentialsError, PartialCredentialsError\n",
    "from rich import print as rprint\n",
    "import pandas as pd"
   ]
  },
  {
   "cell_type": "code",
   "execution_count": null,
   "metadata": {},
   "outputs": [],
   "source": [
    "# Wärmepreisindex\n",
    "cubecode = '61111BM006'\n",
    "areatype = 'all'\n",
    "category = 'all'\n",
    "content = ''\n",
    "start_year = ''\n",
    "classifier1 = 'CC13B1'\n",
    "key1 = 'CC13-77'\n",
    "lang = 'en'\n",
    "\n",
    "# Destatis Base Url\n",
    "url = (f\"{genesis_url}username={user_id}&password={password}&language=de&name={cubecode}&area={areatype}\"\n",
    "       f\"&compress=true&contents={content}&startyear={start_year}\")\n",
    "\n",
    "# Add Classifyers to url\n",
    "if classifier1:\n",
    "       url += f'&classifyingvariable1={classifier1}'    \n",
    "if key1:\n",
    "       url += f'&classifyingkey1={key1}'\n",
    "\n",
    "# request \n",
    "response = requests.get(url)\n",
    "data = json.loads(response.text)[\"Object\"]['Content'].split('\\n')\n",
    "\n",
    "# Filter out the relevant lines\n",
    "filtered_response = [line for line in data if 'D' in line and 'e' in line and ('MONAT' in line or 'QUART' in line)]\n",
    "\n",
    "# Split each line into its components and extract the relevant information\n",
    "data = [{'field_D': parts[0],\n",
    "         'field_DG': parts[1],\n",
    "         'classifyingkey1': parts[2],\n",
    "         'period': parts[3],\n",
    "         'year': int(parts[4]),\n",
    "         'value': float(parts[5]),\n",
    "         'field_e': parts[6]\n",
    "        }\n",
    "        for parts in (line.split(';') for line in filtered_response)]\n",
    "\n",
    "# Create a DataFrame from the extracted data\n",
    "df = pd.DataFrame(data)\n",
    "\n",
    "# Determine if the data is monthly or quarterly based on the unique values in the 'period' column\n",
    "if df['period'].str.contains('Q').any():\n",
    "    period_key = 'quarter'\n",
    "else:\n",
    "    period_key = 'month'\n",
    "\n",
    "# Create result dict\n",
    "result = {'cubeCode': cubecode, 'content': content, 'classifyingVar1': classifier1, 'classifyingKey1': key1, 'data': []}\n",
    "\n",
    "for year, group in df.groupby('year'):\n",
    "    year_data = {'year': year, 'df': [{period_key: row['period'], 'value': row['value']} for _, row in group.iterrows()]}\n",
    "    result['data'].append(year_data)\n",
    "    \n",
    "rprint(json.dumps(result, indent=4))"
   ]
  }
 ],
 "metadata": {
  "kernelspec": {
   "display_name": "Python 3",
   "language": "python",
   "name": "python3"
  },
  "language_info": {
   "codemirror_mode": {
    "name": "ipython",
    "version": 3
   },
   "file_extension": ".py",
   "mimetype": "text/x-python",
   "name": "python",
   "nbconvert_exporter": "python",
   "pygments_lexer": "ipython3",
   "version": "3.12.3"
  }
 },
 "nbformat": 4,
 "nbformat_minor": 2
}
