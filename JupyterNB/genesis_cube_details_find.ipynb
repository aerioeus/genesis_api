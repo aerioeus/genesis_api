{
 "cells": [
  {
   "cell_type": "code",
   "execution_count": 2,
   "metadata": {
    "metadata": {}
   },
   "outputs": [],
   "source": [
    "import json\n",
    "import requests\n",
    "import csv\n",
    "import io\n",
    "from rich import print as rprint\n",
    "import pandas as pd\n",
    "import pprint"
   ]
  },
  {
   "cell_type": "code",
   "execution_count": 5,
   "metadata": {
    "metadata": {}
   },
   "outputs": [
    {
     "data": {
      "text/html": [
       "<pre style=\"white-space:pre;overflow-x:auto;line-height:normal;font-family:Menlo,'DejaVu Sans Mono',consolas,'Courier New',monospace\"><span style=\"font-weight: bold\">{</span>\n",
       "    <span style=\"color: #008000; text-decoration-color: #008000\">'Ident'</span>: <span style=\"font-weight: bold\">{</span><span style=\"color: #008000; text-decoration-color: #008000\">'Service'</span>: <span style=\"color: #008000; text-decoration-color: #008000\">'catalogue'</span>, <span style=\"color: #008000; text-decoration-color: #008000\">'Method'</span>: <span style=\"color: #008000; text-decoration-color: #008000\">'timeseries'</span><span style=\"font-weight: bold\">}</span>,\n",
       "    <span style=\"color: #008000; text-decoration-color: #008000\">'Status'</span>: <span style=\"font-weight: bold\">{</span>\n",
       "        <span style=\"color: #008000; text-decoration-color: #008000\">'Code'</span>: <span style=\"color: #008080; text-decoration-color: #008080; font-weight: bold\">104</span>,\n",
       "        <span style=\"color: #008000; text-decoration-color: #008000\">'Content'</span>: <span style=\"color: #008000; text-decoration-color: #008000\">'Es gibt keine Objekte zum angegebenen Selektionskriterium'</span>,\n",
       "        <span style=\"color: #008000; text-decoration-color: #008000\">'Type'</span>: <span style=\"color: #008000; text-decoration-color: #008000\">'Information'</span>\n",
       "    <span style=\"font-weight: bold\">}</span>,\n",
       "    <span style=\"color: #008000; text-decoration-color: #008000\">'Parameter'</span>: <span style=\"font-weight: bold\">{</span>\n",
       "        <span style=\"color: #008000; text-decoration-color: #008000\">'username'</span>: <span style=\"color: #008000; text-decoration-color: #008000\">'********************'</span>,\n",
       "        <span style=\"color: #008000; text-decoration-color: #008000\">'password'</span>: <span style=\"color: #008000; text-decoration-color: #008000\">'********************'</span>,\n",
       "        <span style=\"color: #008000; text-decoration-color: #008000\">'selection'</span>: <span style=\"color: #008000; text-decoration-color: #008000\">'62221-0002'</span>,\n",
       "        <span style=\"color: #008000; text-decoration-color: #008000\">'area'</span>: <span style=\"color: #008000; text-decoration-color: #008000\">'Alle'</span>,\n",
       "        <span style=\"color: #008000; text-decoration-color: #008000\">'pagelength'</span>: <span style=\"color: #008000; text-decoration-color: #008000\">'20'</span>,\n",
       "        <span style=\"color: #008000; text-decoration-color: #008000\">'language'</span>: <span style=\"color: #008000; text-decoration-color: #008000\">'de'</span>\n",
       "    <span style=\"font-weight: bold\">}</span>,\n",
       "    <span style=\"color: #008000; text-decoration-color: #008000\">'List'</span>: <span style=\"color: #800080; text-decoration-color: #800080; font-style: italic\">None</span>,\n",
       "    <span style=\"color: #008000; text-decoration-color: #008000\">'Copyright'</span>: <span style=\"color: #008000; text-decoration-color: #008000\">'© Statistisches Bundesamt (Destatis), 2024'</span>\n",
       "<span style=\"font-weight: bold\">}</span>\n",
       "</pre>\n"
      ],
      "text/plain": [
       "\u001b[1m{\u001b[0m\n",
       "    \u001b[32m'Ident'\u001b[0m: \u001b[1m{\u001b[0m\u001b[32m'Service'\u001b[0m: \u001b[32m'catalogue'\u001b[0m, \u001b[32m'Method'\u001b[0m: \u001b[32m'timeseries'\u001b[0m\u001b[1m}\u001b[0m,\n",
       "    \u001b[32m'Status'\u001b[0m: \u001b[1m{\u001b[0m\n",
       "        \u001b[32m'Code'\u001b[0m: \u001b[1;36m104\u001b[0m,\n",
       "        \u001b[32m'Content'\u001b[0m: \u001b[32m'Es gibt keine Objekte zum angegebenen Selektionskriterium'\u001b[0m,\n",
       "        \u001b[32m'Type'\u001b[0m: \u001b[32m'Information'\u001b[0m\n",
       "    \u001b[1m}\u001b[0m,\n",
       "    \u001b[32m'Parameter'\u001b[0m: \u001b[1m{\u001b[0m\n",
       "        \u001b[32m'username'\u001b[0m: \u001b[32m'********************'\u001b[0m,\n",
       "        \u001b[32m'password'\u001b[0m: \u001b[32m'********************'\u001b[0m,\n",
       "        \u001b[32m'selection'\u001b[0m: \u001b[32m'62221-0002'\u001b[0m,\n",
       "        \u001b[32m'area'\u001b[0m: \u001b[32m'Alle'\u001b[0m,\n",
       "        \u001b[32m'pagelength'\u001b[0m: \u001b[32m'20'\u001b[0m,\n",
       "        \u001b[32m'language'\u001b[0m: \u001b[32m'de'\u001b[0m\n",
       "    \u001b[1m}\u001b[0m,\n",
       "    \u001b[32m'List'\u001b[0m: \u001b[3;35mNone\u001b[0m,\n",
       "    \u001b[32m'Copyright'\u001b[0m: \u001b[32m'© Statistisches Bundesamt \u001b[0m\u001b[32m(\u001b[0m\u001b[32mDestatis\u001b[0m\u001b[32m)\u001b[0m\u001b[32m, 2024'\u001b[0m\n",
       "\u001b[1m}\u001b[0m\n"
      ]
     },
     "metadata": {},
     "output_type": "display_data"
    }
   ],
   "source": [
    "genesis_url = 'https://www-genesis.destatis.de/genesisWS/rest/2020/catalogue/timeseries?'\n",
    "user_id = 'DE17T29R57'\n",
    "password = '4Bf/3Ap)3]r2,,h'\n",
    "selection = '62221-0002'\n",
    "area = \"all\"\n",
    "pagelength = \"20\"\n",
    "language = \"de\"\n",
    "\n",
    "lang = 'en'\n",
    "\n",
    "# find the details for a specific Index\n",
    "destatis = f\"{genesis_url}username={user_id}&password={password}&name={name}&selection={selection}&area={area}&pagelength={pagelength}&language={language}\"\n",
    "\n",
    "# get data from GENESIS API, converts it to JSON, get the CSV content and splits the lines\n",
    "responseContent = json.loads(requests.get(destatis).text)\n",
    "rprint(responseContent)"
   ]
  },
  {
   "cell_type": "code",
   "execution_count": 4,
   "metadata": {
    "metadata": {}
   },
   "outputs": [
    {
     "data": {
      "text/html": [
       "<pre style=\"white-space:pre;overflow-x:auto;line-height:normal;font-family:Menlo,'DejaVu Sans Mono',consolas,'Courier New',monospace\"><span style=\"font-weight: bold\">{</span>\n",
       "    <span style=\"color: #008000; text-decoration-color: #008000\">'Ident'</span>: <span style=\"font-weight: bold\">{</span><span style=\"color: #008000; text-decoration-color: #008000\">'Service'</span>: <span style=\"color: #008000; text-decoration-color: #008000\">'catalogue'</span>, <span style=\"color: #008000; text-decoration-color: #008000\">'Method'</span>: <span style=\"color: #008000; text-decoration-color: #008000\">'cubes2variable'</span><span style=\"font-weight: bold\">}</span>,\n",
       "    <span style=\"color: #008000; text-decoration-color: #008000\">'Status'</span>: <span style=\"font-weight: bold\">{</span>\n",
       "        <span style=\"color: #008000; text-decoration-color: #008000\">'Code'</span>: <span style=\"color: #008080; text-decoration-color: #008080; font-weight: bold\">104</span>,\n",
       "        <span style=\"color: #008000; text-decoration-color: #008000\">'Content'</span>: <span style=\"color: #008000; text-decoration-color: #008000\">'Es gibt keine Objekte zum angegebenen Selektionskriterium (Mindestens ein Parameter enthält </span>\n",
       "<span style=\"color: #008000; text-decoration-color: #008000\">ungültige Werte. Er wurde angepasst, um den Service starten zu können.: name)'</span>,\n",
       "        <span style=\"color: #008000; text-decoration-color: #008000\">'Type'</span>: <span style=\"color: #008000; text-decoration-color: #008000\">'Information'</span>\n",
       "    <span style=\"font-weight: bold\">}</span>,\n",
       "    <span style=\"color: #008000; text-decoration-color: #008000\">'Parameter'</span>: <span style=\"font-weight: bold\">{</span>\n",
       "        <span style=\"color: #008000; text-decoration-color: #008000\">'username'</span>: <span style=\"color: #008000; text-decoration-color: #008000\">'********************'</span>,\n",
       "        <span style=\"color: #008000; text-decoration-color: #008000\">'password'</span>: <span style=\"color: #008000; text-decoration-color: #008000\">'********************'</span>,\n",
       "        <span style=\"color: #008000; text-decoration-color: #008000\">'name'</span>: <span style=\"color: #008000; text-decoration-color: #008000\">'Indize'</span>,\n",
       "        <span style=\"color: #008000; text-decoration-color: #008000\">'selection'</span>: <span style=\"color: #008000; text-decoration-color: #008000\">'61241*'</span>,\n",
       "        <span style=\"color: #008000; text-decoration-color: #008000\">'area'</span>: <span style=\"color: #008000; text-decoration-color: #008000\">'Alle'</span>,\n",
       "        <span style=\"color: #008000; text-decoration-color: #008000\">'pagelength'</span>: <span style=\"color: #008000; text-decoration-color: #008000\">'20'</span>,\n",
       "        <span style=\"color: #008000; text-decoration-color: #008000\">'language'</span>: <span style=\"color: #008000; text-decoration-color: #008000\">'de'</span>\n",
       "    <span style=\"font-weight: bold\">}</span>,\n",
       "    <span style=\"color: #008000; text-decoration-color: #008000\">'List'</span>: <span style=\"color: #800080; text-decoration-color: #800080; font-style: italic\">None</span>,\n",
       "    <span style=\"color: #008000; text-decoration-color: #008000\">'Copyright'</span>: <span style=\"color: #008000; text-decoration-color: #008000\">'© Statistisches Bundesamt (Destatis), 2024'</span>\n",
       "<span style=\"font-weight: bold\">}</span>\n",
       "</pre>\n"
      ],
      "text/plain": [
       "\u001b[1m{\u001b[0m\n",
       "    \u001b[32m'Ident'\u001b[0m: \u001b[1m{\u001b[0m\u001b[32m'Service'\u001b[0m: \u001b[32m'catalogue'\u001b[0m, \u001b[32m'Method'\u001b[0m: \u001b[32m'cubes2variable'\u001b[0m\u001b[1m}\u001b[0m,\n",
       "    \u001b[32m'Status'\u001b[0m: \u001b[1m{\u001b[0m\n",
       "        \u001b[32m'Code'\u001b[0m: \u001b[1;36m104\u001b[0m,\n",
       "        \u001b[32m'Content'\u001b[0m: \u001b[32m'Es gibt keine Objekte zum angegebenen Selektionskriterium \u001b[0m\u001b[32m(\u001b[0m\u001b[32mMindestens ein Parameter enthält \u001b[0m\n",
       "\u001b[32mungültige Werte. Er wurde angepasst, um den Service starten zu können.: name\u001b[0m\u001b[32m)\u001b[0m\u001b[32m'\u001b[0m,\n",
       "        \u001b[32m'Type'\u001b[0m: \u001b[32m'Information'\u001b[0m\n",
       "    \u001b[1m}\u001b[0m,\n",
       "    \u001b[32m'Parameter'\u001b[0m: \u001b[1m{\u001b[0m\n",
       "        \u001b[32m'username'\u001b[0m: \u001b[32m'********************'\u001b[0m,\n",
       "        \u001b[32m'password'\u001b[0m: \u001b[32m'********************'\u001b[0m,\n",
       "        \u001b[32m'name'\u001b[0m: \u001b[32m'Indize'\u001b[0m,\n",
       "        \u001b[32m'selection'\u001b[0m: \u001b[32m'61241*'\u001b[0m,\n",
       "        \u001b[32m'area'\u001b[0m: \u001b[32m'Alle'\u001b[0m,\n",
       "        \u001b[32m'pagelength'\u001b[0m: \u001b[32m'20'\u001b[0m,\n",
       "        \u001b[32m'language'\u001b[0m: \u001b[32m'de'\u001b[0m\n",
       "    \u001b[1m}\u001b[0m,\n",
       "    \u001b[32m'List'\u001b[0m: \u001b[3;35mNone\u001b[0m,\n",
       "    \u001b[32m'Copyright'\u001b[0m: \u001b[32m'© Statistisches Bundesamt \u001b[0m\u001b[32m(\u001b[0m\u001b[32mDestatis\u001b[0m\u001b[32m)\u001b[0m\u001b[32m, 2024'\u001b[0m\n",
       "\u001b[1m}\u001b[0m\n"
      ]
     },
     "metadata": {},
     "output_type": "display_data"
    }
   ],
   "source": [
    "genesis_url = 'https://www-genesis.destatis.de/genesisWS/rest/2020/catalogue/cubes2variable?'\n",
    "user_id = 'DE17T29R57'\n",
    "password = '4Bf/3Ap)3]r2,,h'\n",
    "name = \"Indizes der Tarifverdienste\"\n",
    "selection = '61241*'\n",
    "area = \"all\"\n",
    "pagelength = \"20\"\n",
    "language = \"de\"\n",
    "\n",
    "lang = 'en'\n",
    "\n",
    "# find the details for a specific Index\n",
    "destatis = f\"{genesis_url}username={user_id}&password={password}&name={name}&selection={selection}&area={area}&pagelength={pagelength}&language={language}\"\n",
    "\n",
    "# get data from GENESIS API, converts it to JSON, get the CSV content and splits the lines\n",
    "responseContent = json.loads(requests.get(destatis).text)\n",
    "rprint(responseContent)"
   ]
  },
  {
   "cell_type": "code",
   "execution_count": 22,
   "metadata": {},
   "outputs": [
    {
     "data": {
      "text/html": [
       "<pre style=\"white-space:pre;overflow-x:auto;line-height:normal;font-family:Menlo,'DejaVu Sans Mono',consolas,'Courier New',monospace\"><span style=\"font-weight: bold\">{</span>\n",
       "    <span style=\"color: #008000; text-decoration-color: #008000\">'Ident'</span>: <span style=\"font-weight: bold\">{</span><span style=\"color: #008000; text-decoration-color: #008000\">'Service'</span>: <span style=\"color: #008000; text-decoration-color: #008000\">'find'</span>, <span style=\"color: #008000; text-decoration-color: #008000\">'Method'</span>: <span style=\"color: #008000; text-decoration-color: #008000\">'find'</span><span style=\"font-weight: bold\">}</span>,\n",
       "    <span style=\"color: #008000; text-decoration-color: #008000\">'Status'</span>: <span style=\"font-weight: bold\">{</span><span style=\"color: #008000; text-decoration-color: #008000\">'Code'</span>: <span style=\"color: #008080; text-decoration-color: #008080; font-weight: bold\">0</span>, <span style=\"color: #008000; text-decoration-color: #008000\">'Content'</span>: <span style=\"color: #008000; text-decoration-color: #008000\">'erfolgreich'</span>, <span style=\"color: #008000; text-decoration-color: #008000\">'Type'</span>: <span style=\"color: #008000; text-decoration-color: #008000\">'Information'</span><span style=\"font-weight: bold\">}</span>,\n",
       "    <span style=\"color: #008000; text-decoration-color: #008000\">'Parameter'</span>: <span style=\"font-weight: bold\">{</span>\n",
       "        <span style=\"color: #008000; text-decoration-color: #008000\">'username'</span>: <span style=\"color: #008000; text-decoration-color: #008000\">'********************'</span>,\n",
       "        <span style=\"color: #008000; text-decoration-color: #008000\">'password'</span>: <span style=\"color: #008000; text-decoration-color: #008000\">'********************'</span>,\n",
       "        <span style=\"color: #008000; text-decoration-color: #008000\">'term'</span>: <span style=\"color: #008000; text-decoration-color: #008000\">'Erzeugerpreisindex gewerblicher Produkte: Deutschland, Monate, Güterverzeichnis (GP2019 </span>\n",
       "<span style=\"color: #008000; text-decoration-color: #008000\">2-/3-/4-/5-/6-/9-Steller/Sonderpositionen)'</span>,\n",
       "        <span style=\"color: #008000; text-decoration-color: #008000\">'category'</span>: <span style=\"color: #008000; text-decoration-color: #008000\">'Alle'</span>,\n",
       "        <span style=\"color: #008000; text-decoration-color: #008000\">'pagelength'</span>: <span style=\"color: #008000; text-decoration-color: #008000\">'20'</span>,\n",
       "        <span style=\"color: #008000; text-decoration-color: #008000\">'language'</span>: <span style=\"color: #008000; text-decoration-color: #008000\">'de'</span>\n",
       "    <span style=\"font-weight: bold\">}</span>,\n",
       "    <span style=\"color: #008000; text-decoration-color: #008000\">'Cubes'</span>: <span style=\"color: #800080; text-decoration-color: #800080; font-style: italic\">None</span>,\n",
       "    <span style=\"color: #008000; text-decoration-color: #008000\">'Statistics'</span>: <span style=\"color: #800080; text-decoration-color: #800080; font-style: italic\">None</span>,\n",
       "    <span style=\"color: #008000; text-decoration-color: #008000\">'Tables'</span>: <span style=\"color: #800080; text-decoration-color: #800080; font-style: italic\">None</span>,\n",
       "    <span style=\"color: #008000; text-decoration-color: #008000\">'Timeseries'</span>: <span style=\"color: #800080; text-decoration-color: #800080; font-style: italic\">None</span>,\n",
       "    <span style=\"color: #008000; text-decoration-color: #008000\">'Variables'</span>: <span style=\"color: #800080; text-decoration-color: #800080; font-style: italic\">None</span>,\n",
       "    <span style=\"color: #008000; text-decoration-color: #008000\">'Copyright'</span>: <span style=\"color: #008000; text-decoration-color: #008000\">'© Statistisches Bundesamt (Destatis), 2024'</span>\n",
       "<span style=\"font-weight: bold\">}</span>\n",
       "</pre>\n"
      ],
      "text/plain": [
       "\u001b[1m{\u001b[0m\n",
       "    \u001b[32m'Ident'\u001b[0m: \u001b[1m{\u001b[0m\u001b[32m'Service'\u001b[0m: \u001b[32m'find'\u001b[0m, \u001b[32m'Method'\u001b[0m: \u001b[32m'find'\u001b[0m\u001b[1m}\u001b[0m,\n",
       "    \u001b[32m'Status'\u001b[0m: \u001b[1m{\u001b[0m\u001b[32m'Code'\u001b[0m: \u001b[1;36m0\u001b[0m, \u001b[32m'Content'\u001b[0m: \u001b[32m'erfolgreich'\u001b[0m, \u001b[32m'Type'\u001b[0m: \u001b[32m'Information'\u001b[0m\u001b[1m}\u001b[0m,\n",
       "    \u001b[32m'Parameter'\u001b[0m: \u001b[1m{\u001b[0m\n",
       "        \u001b[32m'username'\u001b[0m: \u001b[32m'********************'\u001b[0m,\n",
       "        \u001b[32m'password'\u001b[0m: \u001b[32m'********************'\u001b[0m,\n",
       "        \u001b[32m'term'\u001b[0m: \u001b[32m'Erzeugerpreisindex gewerblicher Produkte: Deutschland, Monate, Güterverzeichnis \u001b[0m\u001b[32m(\u001b[0m\u001b[32mGP2019 \u001b[0m\n",
       "\u001b[32m2-/3-/4-/5-/6-/9-Steller/Sonderpositionen\u001b[0m\u001b[32m)\u001b[0m\u001b[32m'\u001b[0m,\n",
       "        \u001b[32m'category'\u001b[0m: \u001b[32m'Alle'\u001b[0m,\n",
       "        \u001b[32m'pagelength'\u001b[0m: \u001b[32m'20'\u001b[0m,\n",
       "        \u001b[32m'language'\u001b[0m: \u001b[32m'de'\u001b[0m\n",
       "    \u001b[1m}\u001b[0m,\n",
       "    \u001b[32m'Cubes'\u001b[0m: \u001b[3;35mNone\u001b[0m,\n",
       "    \u001b[32m'Statistics'\u001b[0m: \u001b[3;35mNone\u001b[0m,\n",
       "    \u001b[32m'Tables'\u001b[0m: \u001b[3;35mNone\u001b[0m,\n",
       "    \u001b[32m'Timeseries'\u001b[0m: \u001b[3;35mNone\u001b[0m,\n",
       "    \u001b[32m'Variables'\u001b[0m: \u001b[3;35mNone\u001b[0m,\n",
       "    \u001b[32m'Copyright'\u001b[0m: \u001b[32m'© Statistisches Bundesamt \u001b[0m\u001b[32m(\u001b[0m\u001b[32mDestatis\u001b[0m\u001b[32m)\u001b[0m\u001b[32m, 2024'\u001b[0m\n",
       "\u001b[1m}\u001b[0m\n"
      ]
     },
     "metadata": {},
     "output_type": "display_data"
    }
   ],
   "source": [
    "genesis_url = 'https://www-genesis.destatis.de/genesisWS/rest/2020/find/find?'\n",
    "user_id = 'DE17T29R57'\n",
    "password = '4Bf/3Ap)3]r2,,h'\n",
    "term = \"Erzeugerpreisindex gewerblicher Produkte: Deutschland, Monate, Güterverzeichnis (GP2019 2-/3-/4-/5-/6-/9-Steller/Sonderpositionen) \"\n",
    "category = \"all\"\n",
    "pagelength = \"20\"\n",
    "language = \"de\"\n",
    "\n",
    "lang = 'en'\n",
    "\n",
    "# find the details for a specific Index\n",
    "destatis = f\"{genesis_url}username={user_id}&password={password}&term={term}&category={category}&pagelength={pagelength}&language={language}\"\n",
    "\n",
    "# get data from GENESIS API, converts it to JSON, get the CSV content and splits the lines\n",
    "responseContent = json.loads(requests.get(destatis).text)\n",
    "rprint(responseContent)"
   ]
  },
  {
   "cell_type": "code",
   "execution_count": 6,
   "metadata": {
    "metadata": {}
   },
   "outputs": [
    {
     "data": {
      "text/html": [
       "<pre style=\"white-space:pre;overflow-x:auto;line-height:normal;font-family:Menlo,'DejaVu Sans Mono',consolas,'Courier New',monospace\"><span style=\"font-weight: bold\">{</span>\n",
       "    <span style=\"color: #008000; text-decoration-color: #008000\">'Ident'</span>: <span style=\"font-weight: bold\">{</span><span style=\"color: #008000; text-decoration-color: #008000\">'Service'</span>: <span style=\"color: #008000; text-decoration-color: #008000\">'catalogue'</span>, <span style=\"color: #008000; text-decoration-color: #008000\">'Method'</span>: <span style=\"color: #008000; text-decoration-color: #008000\">'cubes'</span><span style=\"font-weight: bold\">}</span>,\n",
       "    <span style=\"color: #008000; text-decoration-color: #008000\">'Status'</span>: <span style=\"font-weight: bold\">{</span><span style=\"color: #008000; text-decoration-color: #008000\">'Code'</span>: <span style=\"color: #008080; text-decoration-color: #008080; font-weight: bold\">0</span>, <span style=\"color: #008000; text-decoration-color: #008000\">'Content'</span>: <span style=\"color: #008000; text-decoration-color: #008000\">'erfolgreich'</span>, <span style=\"color: #008000; text-decoration-color: #008000\">'Type'</span>: <span style=\"color: #008000; text-decoration-color: #008000\">'Information'</span><span style=\"font-weight: bold\">}</span>,\n",
       "    <span style=\"color: #008000; text-decoration-color: #008000\">'Parameter'</span>: <span style=\"font-weight: bold\">{</span>\n",
       "        <span style=\"color: #008000; text-decoration-color: #008000\">'username'</span>: <span style=\"color: #008000; text-decoration-color: #008000\">'********************'</span>,\n",
       "        <span style=\"color: #008000; text-decoration-color: #008000\">'password'</span>: <span style=\"color: #008000; text-decoration-color: #008000\">'********************'</span>,\n",
       "        <span style=\"color: #008000; text-decoration-color: #008000\">'selection'</span>: <span style=\"color: #008000; text-decoration-color: #008000\">'62221BV*'</span>,\n",
       "        <span style=\"color: #008000; text-decoration-color: #008000\">'area'</span>: <span style=\"color: #008000; text-decoration-color: #008000\">'Öffentlich'</span>,\n",
       "        <span style=\"color: #008000; text-decoration-color: #008000\">'pagelength'</span>: <span style=\"color: #008000; text-decoration-color: #008000\">'20'</span>,\n",
       "        <span style=\"color: #008000; text-decoration-color: #008000\">'language'</span>: <span style=\"color: #008000; text-decoration-color: #008000\">'de'</span>\n",
       "    <span style=\"font-weight: bold\">}</span>,\n",
       "    <span style=\"color: #008000; text-decoration-color: #008000\">'List'</span>: <span style=\"font-weight: bold\">[</span>\n",
       "        <span style=\"font-weight: bold\">{</span>\n",
       "            <span style=\"color: #008000; text-decoration-color: #008000\">'Code'</span>: <span style=\"color: #008000; text-decoration-color: #008000\">'62221BV001'</span>,\n",
       "            <span style=\"color: #008000; text-decoration-color: #008000\">'Content'</span>: <span style=\"color: #008000; text-decoration-color: #008000\">'Vj. Index der Tarifverdienste und Arbeitszeiten, Index d.tarifl. Stundenverdienste ohne </span>\n",
       "<span style=\"color: #008000; text-decoration-color: #008000\">Sonderzahl., Index d.tarifl. Stundenverdienste mit Sonderzahl., Index d.tarifl. Monatsverdienste ohne Sonderzahl., </span>\n",
       "<span style=\"color: #008000; text-decoration-color: #008000\">Index d.tarifl. Monatsverdienste mit Sonderzahl., Index der tariflichen Wochenarbeitszeit, Durchschnittliche </span>\n",
       "<span style=\"color: #008000; text-decoration-color: #008000\">tarifliche Wochenarbeitszeit, WZ2008 (ausgewählte Positionen): Tarifindex, Deutschland insgesamt, Quartale, Jahr'</span>,\n",
       "            <span style=\"color: #008000; text-decoration-color: #008000\">'State'</span>: <span style=\"color: #008000; text-decoration-color: #008000\">'vollständig mit Werten'</span>,\n",
       "            <span style=\"color: #008000; text-decoration-color: #008000\">'Time'</span>: <span style=\"color: #008000; text-decoration-color: #008000\">'1. Quartal 1995-4. Quartal 2023'</span>,\n",
       "            <span style=\"color: #008000; text-decoration-color: #008000\">'LatestUpdate'</span>: <span style=\"color: #008000; text-decoration-color: #008000\">'29.02.2024 08:06:00h'</span>,\n",
       "            <span style=\"color: #008000; text-decoration-color: #008000\">'Information'</span>: <span style=\"color: #008000; text-decoration-color: #008000\">'false'</span>\n",
       "        <span style=\"font-weight: bold\">}</span>,\n",
       "        <span style=\"font-weight: bold\">{</span>\n",
       "            <span style=\"color: #008000; text-decoration-color: #008000\">'Code'</span>: <span style=\"color: #008000; text-decoration-color: #008000\">'62221BV002'</span>,\n",
       "            <span style=\"color: #008000; text-decoration-color: #008000\">'Content'</span>: <span style=\"color: #008000; text-decoration-color: #008000\">'Vj. Index der Tarifverdienste und Arbeitszeiten, Index d.tarifl. Stundenverdienste ohne </span>\n",
       "<span style=\"color: #008000; text-decoration-color: #008000\">Sonderzahl., Index d.tarifl. Stundenverdienste mit Sonderzahl., Index d.tarifl. Monatsverdienste ohne Sonderzahl., </span>\n",
       "<span style=\"color: #008000; text-decoration-color: #008000\">Index d.tarifl. Monatsverdienste mit Sonderzahl., Index der tariflichen Wochenarbeitszeit, Durchschnittliche </span>\n",
       "<span style=\"color: #008000; text-decoration-color: #008000\">tarifliche Wochenarbeitszeit, WZ2008 (ausgewählte Positionen): Tarifindex, Früheres Bundesgebiet / Neue Länder, </span>\n",
       "<span style=\"color: #008000; text-decoration-color: #008000\">Quartale, Jahr'</span>,\n",
       "            <span style=\"color: #008000; text-decoration-color: #008000\">'State'</span>: <span style=\"color: #008000; text-decoration-color: #008000\">'vollständig mit Werten'</span>,\n",
       "            <span style=\"color: #008000; text-decoration-color: #008000\">'Time'</span>: <span style=\"color: #008000; text-decoration-color: #008000\">'1. Quartal 1995-4. Quartal 2023'</span>,\n",
       "            <span style=\"color: #008000; text-decoration-color: #008000\">'LatestUpdate'</span>: <span style=\"color: #008000; text-decoration-color: #008000\">'29.02.2024 08:06:04h'</span>,\n",
       "            <span style=\"color: #008000; text-decoration-color: #008000\">'Information'</span>: <span style=\"color: #008000; text-decoration-color: #008000\">'false'</span>\n",
       "        <span style=\"font-weight: bold\">}</span>\n",
       "    <span style=\"font-weight: bold\">]</span>,\n",
       "    <span style=\"color: #008000; text-decoration-color: #008000\">'Copyright'</span>: <span style=\"color: #008000; text-decoration-color: #008000\">'© Statistisches Bundesamt (Destatis), 2024'</span>\n",
       "<span style=\"font-weight: bold\">}</span>\n",
       "</pre>\n"
      ],
      "text/plain": [
       "\u001b[1m{\u001b[0m\n",
       "    \u001b[32m'Ident'\u001b[0m: \u001b[1m{\u001b[0m\u001b[32m'Service'\u001b[0m: \u001b[32m'catalogue'\u001b[0m, \u001b[32m'Method'\u001b[0m: \u001b[32m'cubes'\u001b[0m\u001b[1m}\u001b[0m,\n",
       "    \u001b[32m'Status'\u001b[0m: \u001b[1m{\u001b[0m\u001b[32m'Code'\u001b[0m: \u001b[1;36m0\u001b[0m, \u001b[32m'Content'\u001b[0m: \u001b[32m'erfolgreich'\u001b[0m, \u001b[32m'Type'\u001b[0m: \u001b[32m'Information'\u001b[0m\u001b[1m}\u001b[0m,\n",
       "    \u001b[32m'Parameter'\u001b[0m: \u001b[1m{\u001b[0m\n",
       "        \u001b[32m'username'\u001b[0m: \u001b[32m'********************'\u001b[0m,\n",
       "        \u001b[32m'password'\u001b[0m: \u001b[32m'********************'\u001b[0m,\n",
       "        \u001b[32m'selection'\u001b[0m: \u001b[32m'62221BV*'\u001b[0m,\n",
       "        \u001b[32m'area'\u001b[0m: \u001b[32m'Öffentlich'\u001b[0m,\n",
       "        \u001b[32m'pagelength'\u001b[0m: \u001b[32m'20'\u001b[0m,\n",
       "        \u001b[32m'language'\u001b[0m: \u001b[32m'de'\u001b[0m\n",
       "    \u001b[1m}\u001b[0m,\n",
       "    \u001b[32m'List'\u001b[0m: \u001b[1m[\u001b[0m\n",
       "        \u001b[1m{\u001b[0m\n",
       "            \u001b[32m'Code'\u001b[0m: \u001b[32m'62221BV001'\u001b[0m,\n",
       "            \u001b[32m'Content'\u001b[0m: \u001b[32m'Vj. Index der Tarifverdienste und Arbeitszeiten, Index d.tarifl. Stundenverdienste ohne \u001b[0m\n",
       "\u001b[32mSonderzahl., Index d.tarifl. Stundenverdienste mit Sonderzahl., Index d.tarifl. Monatsverdienste ohne Sonderzahl., \u001b[0m\n",
       "\u001b[32mIndex d.tarifl. Monatsverdienste mit Sonderzahl., Index der tariflichen Wochenarbeitszeit, Durchschnittliche \u001b[0m\n",
       "\u001b[32mtarifliche Wochenarbeitszeit, WZ2008 \u001b[0m\u001b[32m(\u001b[0m\u001b[32mausgewählte Positionen\u001b[0m\u001b[32m)\u001b[0m\u001b[32m: Tarifindex, Deutschland insgesamt, Quartale, Jahr'\u001b[0m,\n",
       "            \u001b[32m'State'\u001b[0m: \u001b[32m'vollständig mit Werten'\u001b[0m,\n",
       "            \u001b[32m'Time'\u001b[0m: \u001b[32m'1. Quartal 1995-4. Quartal 2023'\u001b[0m,\n",
       "            \u001b[32m'LatestUpdate'\u001b[0m: \u001b[32m'29.02.2024 08:06:00h'\u001b[0m,\n",
       "            \u001b[32m'Information'\u001b[0m: \u001b[32m'false'\u001b[0m\n",
       "        \u001b[1m}\u001b[0m,\n",
       "        \u001b[1m{\u001b[0m\n",
       "            \u001b[32m'Code'\u001b[0m: \u001b[32m'62221BV002'\u001b[0m,\n",
       "            \u001b[32m'Content'\u001b[0m: \u001b[32m'Vj. Index der Tarifverdienste und Arbeitszeiten, Index d.tarifl. Stundenverdienste ohne \u001b[0m\n",
       "\u001b[32mSonderzahl., Index d.tarifl. Stundenverdienste mit Sonderzahl., Index d.tarifl. Monatsverdienste ohne Sonderzahl., \u001b[0m\n",
       "\u001b[32mIndex d.tarifl. Monatsverdienste mit Sonderzahl., Index der tariflichen Wochenarbeitszeit, Durchschnittliche \u001b[0m\n",
       "\u001b[32mtarifliche Wochenarbeitszeit, WZ2008 \u001b[0m\u001b[32m(\u001b[0m\u001b[32mausgewählte Positionen\u001b[0m\u001b[32m)\u001b[0m\u001b[32m: Tarifindex, Früheres Bundesgebiet / Neue Länder, \u001b[0m\n",
       "\u001b[32mQuartale, Jahr'\u001b[0m,\n",
       "            \u001b[32m'State'\u001b[0m: \u001b[32m'vollständig mit Werten'\u001b[0m,\n",
       "            \u001b[32m'Time'\u001b[0m: \u001b[32m'1. Quartal 1995-4. Quartal 2023'\u001b[0m,\n",
       "            \u001b[32m'LatestUpdate'\u001b[0m: \u001b[32m'29.02.2024 08:06:04h'\u001b[0m,\n",
       "            \u001b[32m'Information'\u001b[0m: \u001b[32m'false'\u001b[0m\n",
       "        \u001b[1m}\u001b[0m\n",
       "    \u001b[1m]\u001b[0m,\n",
       "    \u001b[32m'Copyright'\u001b[0m: \u001b[32m'© Statistisches Bundesamt \u001b[0m\u001b[32m(\u001b[0m\u001b[32mDestatis\u001b[0m\u001b[32m)\u001b[0m\u001b[32m, 2024'\u001b[0m\n",
       "\u001b[1m}\u001b[0m\n"
      ]
     },
     "metadata": {},
     "output_type": "display_data"
    }
   ],
   "source": [
    "genesis_url = 'https://www-genesis.destatis.de/genesisWS/rest/2020/catalogue/cubes?'\n",
    "user_id = 'DE17T29R57'\n",
    "password = '4Bf/3Ap)3]r2,,h'\n",
    "selection = \"62221BV*\"\n",
    "category = \"all\"\n",
    "pagelength = \"20\"\n",
    "language = \"de\"\n",
    "\n",
    "lang = 'en'\n",
    "\n",
    "# find the details for a specific Index\n",
    "destatis = f\"{genesis_url}username={user_id}&password={password}&selection={selection}&category={category}&pagelength={pagelength}&language={language}\"\n",
    "\n",
    "# get data from GENESIS API, converts it to JSON, get the CSV content and splits the lines\n",
    "responseContent = json.loads(requests.get(destatis).text)\n",
    "rprint(responseContent)"
   ]
  }
 ],
 "metadata": {
  "kernelspec": {
   "display_name": "awspy312",
   "language": "python",
   "name": "python3"
  },
  "language_info": {
   "codemirror_mode": {
    "name": "ipython",
    "version": 3
   },
   "file_extension": ".py",
   "mimetype": "text/x-python",
   "name": "python",
   "nbconvert_exporter": "python",
   "pygments_lexer": "ipython3",
   "version": "3.12.3"
  }
 },
 "nbformat": 4,
 "nbformat_minor": 2
}
