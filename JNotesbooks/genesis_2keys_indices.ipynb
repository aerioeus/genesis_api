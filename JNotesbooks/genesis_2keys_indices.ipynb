{
 "cells": [
  {
   "cell_type": "code",
   "execution_count": null,
   "metadata": {},
   "outputs": [],
   "source": [
    "import json\n",
    "import requests\n",
    "import io\n",
    "from rich import print as rprint\n",
    "import pandas as pd\n",
    "import pprint\n",
    "\n",
    "genesis_url = 'https://www-genesis.destatis.de/genesisWS/rest/2020/data/cube?'\n",
    "user_id = 'DE17T29R57'\n",
    "password = '4Bf/3Ap)3]r2,,h'"
   ]
  }
 ],
 "metadata": {
  "language_info": {
   "name": "python"
  }
 },
 "nbformat": 4,
 "nbformat_minor": 2
}
