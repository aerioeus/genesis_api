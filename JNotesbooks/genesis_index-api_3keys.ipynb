{
 "cells": [
  {
   "cell_type": "code",
   "execution_count": 16,
   "metadata": {},
   "outputs": [],
   "source": [
    "import os\n",
    "import io\n",
    "import requests\n",
    "import pandas as pd\n",
    "import json\n",
    "from rich import print as rprint\n",
    "\n",
    "# Load sensitive data from environment variables for security\n",
    "USER_ID = os.getenv('DESTATIS_USER_ID', 'DE17T29R57')  # default values for demonstration\n",
    "PASSWORD = os.getenv('DESTATIS_PASSWORD', '4Bf/3Ap)3]r2,,h')\n",
    "GENESIS_URL = 'https://www-genesis.destatis.de/genesisWS/rest/2020/data/cube?'\n"
   ]
  },
  {
   "cell_type": "code",
   "execution_count": 6,
   "metadata": {},
   "outputs": [],
   "source": [
    "tab_code = '61261BV002'\n",
    "area_type = 'all'\n",
    "content = 'VST066'\n",
    "start_year = ''\n",
    "classifier1 = 'STEMW1'\n",
    "classifier2 = 'BAUIN2'\n",
    "classifier3 = 'BAUIN1'\n",
    "key1 = 'STEMW1'\n",
    "key2 = 'BPI4'\n",
    "key3 = 'BPNB525'\n",
    "lang = 'en'"
   ]
  },
  {
   "cell_type": "code",
   "execution_count": 9,
   "metadata": {},
   "outputs": [],
   "source": [
    "# Build the URL dynamically to include up to three classifiers\n",
    "url = f\"{GENESIS_URL}username={USER_ID}&password={PASSWORD}&name={tab_code}&area={area_type}&compress=true&contents={content}&startyear={start_year}&language={lang}\"\n",
    "url += f\"&classifyingvariable1={classifier1}&classifyingkey1={key1}\"\n",
    "if 'classifier2' in locals() and 'key2' in locals():\n",
    "    url += f\"&classifyingvariable2={classifier2}&classifyingkey2={key2}\"\n",
    "if 'classifier3' in locals() and 'key3' in locals():\n",
    "    url += f\"&classifyingvariable3={classifier3}&classifyingkey3={key3}\""
   ]
  },
  {
   "cell_type": "code",
   "execution_count": 12,
   "metadata": {},
   "outputs": [],
   "source": [
    "# Make the request and split the response content\n",
    "response = requests.get(url)\n",
    "data = json.loads(response.text)[\"Object\"]['Content'].split('\\n')"
   ]
  },
  {
   "cell_type": "code",
   "execution_count": 21,
   "metadata": {},
   "outputs": [],
   "source": [
    "#rprint(data)"
   ]
  },
  {
   "cell_type": "code",
   "execution_count": 22,
   "metadata": {},
   "outputs": [],
   "source": [
    "# Count the number of columns expected based on the first row of actual data (beyond header)\n",
    "sample_data = data[15]  # assuming line 14 is where data starts post-header in your specific dataset\n",
    "num_columns = len(sample_data.split(';'))"
   ]
  },
  {
   "cell_type": "code",
   "execution_count": 23,
   "metadata": {},
   "outputs": [],
   "source": [
    "# Dynamically create the header based on the number of columns in the first row of data\n",
    "base_header = ['field_D', 'field_DFDN', 'quarter', 'year', 'value', 'field_e', 'field_', 'field__']\n",
    "expected_fields = num_columns - len(base_header)  # calculate how many classifyingkey fields there should be\n",
    "header = ';'.join(['classifyingkey' + str(i+1) for i in range(expected_fields)] + base_header)\n"
   ]
  },
  {
   "cell_type": "code",
   "execution_count": 24,
   "metadata": {},
   "outputs": [
    {
     "name": "stdout",
     "output_type": "stream",
     "text": [
      "Header: classifyingkey1;classifyingkey2;field_D;field_DFDN;quarter;year;value;field_e;field_;field__\n",
      "Sample Data Line: K;QEI;FACH-SCHL;FACH-SCHL;FACH-SCHL;FACH-SCHL;FACH-SCHL;ZI-WERT;WERT;QUALITAET\n"
     ]
    }
   ],
   "source": [
    "# Debug: Print out header and first few lines of data to help identify alignment issues\n",
    "print(\"Header:\", header)\n",
    "print(\"Sample Data Line:\", sample_data)"
   ]
  },
  {
   "cell_type": "code",
   "execution_count": 28,
   "metadata": {},
   "outputs": [],
   "source": [
    "# Read the CSV data using the dynamically created header\n",
    "df = pd.read_csv(io.StringIO(header + '\\n' + '\\n'.join(data[14:])), delimiter=';')"
   ]
  },
  {
   "cell_type": "code",
   "execution_count": 34,
   "metadata": {},
   "outputs": [],
   "source": [
    "def transform_data(df):\n",
    "    result = {\n",
    "        'tab_code': tab_code,\n",
    "        'content': content,\n",
    "        'classifier1': classifier1,\n",
    "        'key1': key1,\n",
    "        'data': []\n",
    "    }\n",
    "\n",
    "    grouped = df.groupby('year')\n",
    "    for year, group in grouped:\n",
    "        year_data = {\n",
    "            'year': year,\n",
    "            'df': []\n",
    "        }\n",
    "        \n",
    "        group = group.sort_values(by='quarter')\n",
    "        for quarter, q_group in group.groupby('quarter'):\n",
    "            quarter_data = q_group.iloc[0]  # Take the first entry if duplicates\n",
    "            year_data['df'].append({\n",
    "                'quarter': quarter_data['quarter'],\n",
    "                'value': quarter_data['value']\n",
    "            })\n",
    "\n",
    "        result['data'].append(year_data)\n",
    "\n",
    "    return result\n",
    "\n",
    "# Transform the data\n",
    "transformed_data = transform_data(df)\n",
    "\n"
   ]
  },
  {
   "cell_type": "code",
   "execution_count": 35,
   "metadata": {},
   "outputs": [
    {
     "data": {
      "text/html": [
       "<pre style=\"white-space:pre;overflow-x:auto;line-height:normal;font-family:Menlo,'DejaVu Sans Mono',consolas,'Courier New',monospace\"><span style=\"font-weight: bold\">{</span>\n",
       "    <span style=\"color: #008000; text-decoration-color: #008000\">\"tab_code\"</span>: <span style=\"color: #008000; text-decoration-color: #008000\">\"61261BV002\"</span>,\n",
       "    <span style=\"color: #008000; text-decoration-color: #008000\">\"content\"</span>: <span style=\"color: #008000; text-decoration-color: #008000\">\"VST066\"</span>,\n",
       "    <span style=\"color: #008000; text-decoration-color: #008000\">\"classifier1\"</span>: <span style=\"color: #008000; text-decoration-color: #008000\">\"STEMW1\"</span>,\n",
       "    <span style=\"color: #008000; text-decoration-color: #008000\">\"key1\"</span>: <span style=\"color: #008000; text-decoration-color: #008000\">\"STEMW1\"</span>,\n",
       "    <span style=\"color: #008000; text-decoration-color: #008000\">\"data\"</span>: <span style=\"font-weight: bold\">[</span>\n",
       "        <span style=\"font-weight: bold\">{</span>\n",
       "            <span style=\"color: #008000; text-decoration-color: #008000\">\"year\"</span>: <span style=\"color: #008000; text-decoration-color: #008000\">\"1\"</span>,\n",
       "            <span style=\"color: #008000; text-decoration-color: #008000\">\"df\"</span>: <span style=\"font-weight: bold\">[</span>\n",
       "                <span style=\"font-weight: bold\">{</span>\n",
       "                    <span style=\"color: #008000; text-decoration-color: #008000\">\"quarter\"</span>: <span style=\"color: #008000; text-decoration-color: #008000\">\"PROZENT\"</span>,\n",
       "                    <span style=\"color: #008000; text-decoration-color: #008000\">\"value\"</span>: NaN\n",
       "                <span style=\"font-weight: bold\">}</span>\n",
       "            <span style=\"font-weight: bold\">]</span>\n",
       "        <span style=\"font-weight: bold\">}</span>,\n",
       "        <span style=\"font-weight: bold\">{</span>\n",
       "            <span style=\"color: #008000; text-decoration-color: #008000\">\"year\"</span>: <span style=\"color: #008000; text-decoration-color: #008000\">\"FACH-SCHL\"</span>,\n",
       "            <span style=\"color: #008000; text-decoration-color: #008000\">\"df\"</span>: <span style=\"font-weight: bold\">[</span>\n",
       "                <span style=\"font-weight: bold\">{</span>\n",
       "                    <span style=\"color: #008000; text-decoration-color: #008000\">\"quarter\"</span>: <span style=\"color: #008000; text-decoration-color: #008000\">\"FACH-SCHL\"</span>,\n",
       "                    <span style=\"color: #008000; text-decoration-color: #008000\">\"value\"</span>: <span style=\"color: #008000; text-decoration-color: #008000\">\"FACH-SCHL\"</span>\n",
       "                <span style=\"font-weight: bold\">}</span>\n",
       "            <span style=\"font-weight: bold\">]</span>\n",
       "        <span style=\"font-weight: bold\">}</span>,\n",
       "        <span style=\"font-weight: bold\">{</span>\n",
       "            <span style=\"color: #008000; text-decoration-color: #008000\">\"year\"</span>: <span style=\"color: #008000; text-decoration-color: #008000\">\"MONAT02\"</span>,\n",
       "            <span style=\"color: #008000; text-decoration-color: #008000\">\"df\"</span>: <span style=\"font-weight: bold\">[</span>\n",
       "                <span style=\"font-weight: bold\">{</span>\n",
       "                    <span style=\"color: #008000; text-decoration-color: #008000\">\"quarter\"</span>: <span style=\"color: #008000; text-decoration-color: #008000\">\"BPI4\"</span>,\n",
       "                    <span style=\"color: #008000; text-decoration-color: #008000\">\"value\"</span>: <span style=\"color: #008000; text-decoration-color: #008000\">\"1958\"</span>\n",
       "                <span style=\"font-weight: bold\">}</span>\n",
       "            <span style=\"font-weight: bold\">]</span>\n",
       "        <span style=\"font-weight: bold\">}</span>,\n",
       "        <span style=\"font-weight: bold\">{</span>\n",
       "            <span style=\"color: #008000; text-decoration-color: #008000\">\"year\"</span>: <span style=\"color: #008000; text-decoration-color: #008000\">\"MONAT05\"</span>,\n",
       "            <span style=\"color: #008000; text-decoration-color: #008000\">\"df\"</span>: <span style=\"font-weight: bold\">[</span>\n",
       "                <span style=\"font-weight: bold\">{</span>\n",
       "                    <span style=\"color: #008000; text-decoration-color: #008000\">\"quarter\"</span>: <span style=\"color: #008000; text-decoration-color: #008000\">\"BPI4\"</span>,\n",
       "                    <span style=\"color: #008000; text-decoration-color: #008000\">\"value\"</span>: <span style=\"color: #008000; text-decoration-color: #008000\">\"1958\"</span>\n",
       "                <span style=\"font-weight: bold\">}</span>\n",
       "            <span style=\"font-weight: bold\">]</span>\n",
       "        <span style=\"font-weight: bold\">}</span>,\n",
       "        <span style=\"font-weight: bold\">{</span>\n",
       "            <span style=\"color: #008000; text-decoration-color: #008000\">\"year\"</span>: <span style=\"color: #008000; text-decoration-color: #008000\">\"MONAT08\"</span>,\n",
       "            <span style=\"color: #008000; text-decoration-color: #008000\">\"df\"</span>: <span style=\"font-weight: bold\">[</span>\n",
       "                <span style=\"font-weight: bold\">{</span>\n",
       "                    <span style=\"color: #008000; text-decoration-color: #008000\">\"quarter\"</span>: <span style=\"color: #008000; text-decoration-color: #008000\">\"BPI4\"</span>,\n",
       "                    <span style=\"color: #008000; text-decoration-color: #008000\">\"value\"</span>: <span style=\"color: #008000; text-decoration-color: #008000\">\"1958\"</span>\n",
       "                <span style=\"font-weight: bold\">}</span>\n",
       "            <span style=\"font-weight: bold\">]</span>\n",
       "        <span style=\"font-weight: bold\">}</span>,\n",
       "        <span style=\"font-weight: bold\">{</span>\n",
       "            <span style=\"color: #008000; text-decoration-color: #008000\">\"year\"</span>: <span style=\"color: #008000; text-decoration-color: #008000\">\"MONAT11\"</span>,\n",
       "            <span style=\"color: #008000; text-decoration-color: #008000\">\"df\"</span>: <span style=\"font-weight: bold\">[</span>\n",
       "                <span style=\"font-weight: bold\">{</span>\n",
       "                    <span style=\"color: #008000; text-decoration-color: #008000\">\"quarter\"</span>: <span style=\"color: #008000; text-decoration-color: #008000\">\"BPI4\"</span>,\n",
       "                    <span style=\"color: #008000; text-decoration-color: #008000\">\"value\"</span>: <span style=\"color: #008000; text-decoration-color: #008000\">\"1958\"</span>\n",
       "                <span style=\"font-weight: bold\">}</span>\n",
       "            <span style=\"font-weight: bold\">]</span>\n",
       "        <span style=\"font-weight: bold\">}</span>\n",
       "    <span style=\"font-weight: bold\">]</span>\n",
       "<span style=\"font-weight: bold\">}</span>\n",
       "</pre>\n"
      ],
      "text/plain": [
       "\u001b[1m{\u001b[0m\n",
       "    \u001b[32m\"tab_code\"\u001b[0m: \u001b[32m\"61261BV002\"\u001b[0m,\n",
       "    \u001b[32m\"content\"\u001b[0m: \u001b[32m\"VST066\"\u001b[0m,\n",
       "    \u001b[32m\"classifier1\"\u001b[0m: \u001b[32m\"STEMW1\"\u001b[0m,\n",
       "    \u001b[32m\"key1\"\u001b[0m: \u001b[32m\"STEMW1\"\u001b[0m,\n",
       "    \u001b[32m\"data\"\u001b[0m: \u001b[1m[\u001b[0m\n",
       "        \u001b[1m{\u001b[0m\n",
       "            \u001b[32m\"year\"\u001b[0m: \u001b[32m\"1\"\u001b[0m,\n",
       "            \u001b[32m\"df\"\u001b[0m: \u001b[1m[\u001b[0m\n",
       "                \u001b[1m{\u001b[0m\n",
       "                    \u001b[32m\"quarter\"\u001b[0m: \u001b[32m\"PROZENT\"\u001b[0m,\n",
       "                    \u001b[32m\"value\"\u001b[0m: NaN\n",
       "                \u001b[1m}\u001b[0m\n",
       "            \u001b[1m]\u001b[0m\n",
       "        \u001b[1m}\u001b[0m,\n",
       "        \u001b[1m{\u001b[0m\n",
       "            \u001b[32m\"year\"\u001b[0m: \u001b[32m\"FACH-SCHL\"\u001b[0m,\n",
       "            \u001b[32m\"df\"\u001b[0m: \u001b[1m[\u001b[0m\n",
       "                \u001b[1m{\u001b[0m\n",
       "                    \u001b[32m\"quarter\"\u001b[0m: \u001b[32m\"FACH-SCHL\"\u001b[0m,\n",
       "                    \u001b[32m\"value\"\u001b[0m: \u001b[32m\"FACH-SCHL\"\u001b[0m\n",
       "                \u001b[1m}\u001b[0m\n",
       "            \u001b[1m]\u001b[0m\n",
       "        \u001b[1m}\u001b[0m,\n",
       "        \u001b[1m{\u001b[0m\n",
       "            \u001b[32m\"year\"\u001b[0m: \u001b[32m\"MONAT02\"\u001b[0m,\n",
       "            \u001b[32m\"df\"\u001b[0m: \u001b[1m[\u001b[0m\n",
       "                \u001b[1m{\u001b[0m\n",
       "                    \u001b[32m\"quarter\"\u001b[0m: \u001b[32m\"BPI4\"\u001b[0m,\n",
       "                    \u001b[32m\"value\"\u001b[0m: \u001b[32m\"1958\"\u001b[0m\n",
       "                \u001b[1m}\u001b[0m\n",
       "            \u001b[1m]\u001b[0m\n",
       "        \u001b[1m}\u001b[0m,\n",
       "        \u001b[1m{\u001b[0m\n",
       "            \u001b[32m\"year\"\u001b[0m: \u001b[32m\"MONAT05\"\u001b[0m,\n",
       "            \u001b[32m\"df\"\u001b[0m: \u001b[1m[\u001b[0m\n",
       "                \u001b[1m{\u001b[0m\n",
       "                    \u001b[32m\"quarter\"\u001b[0m: \u001b[32m\"BPI4\"\u001b[0m,\n",
       "                    \u001b[32m\"value\"\u001b[0m: \u001b[32m\"1958\"\u001b[0m\n",
       "                \u001b[1m}\u001b[0m\n",
       "            \u001b[1m]\u001b[0m\n",
       "        \u001b[1m}\u001b[0m,\n",
       "        \u001b[1m{\u001b[0m\n",
       "            \u001b[32m\"year\"\u001b[0m: \u001b[32m\"MONAT08\"\u001b[0m,\n",
       "            \u001b[32m\"df\"\u001b[0m: \u001b[1m[\u001b[0m\n",
       "                \u001b[1m{\u001b[0m\n",
       "                    \u001b[32m\"quarter\"\u001b[0m: \u001b[32m\"BPI4\"\u001b[0m,\n",
       "                    \u001b[32m\"value\"\u001b[0m: \u001b[32m\"1958\"\u001b[0m\n",
       "                \u001b[1m}\u001b[0m\n",
       "            \u001b[1m]\u001b[0m\n",
       "        \u001b[1m}\u001b[0m,\n",
       "        \u001b[1m{\u001b[0m\n",
       "            \u001b[32m\"year\"\u001b[0m: \u001b[32m\"MONAT11\"\u001b[0m,\n",
       "            \u001b[32m\"df\"\u001b[0m: \u001b[1m[\u001b[0m\n",
       "                \u001b[1m{\u001b[0m\n",
       "                    \u001b[32m\"quarter\"\u001b[0m: \u001b[32m\"BPI4\"\u001b[0m,\n",
       "                    \u001b[32m\"value\"\u001b[0m: \u001b[32m\"1958\"\u001b[0m\n",
       "                \u001b[1m}\u001b[0m\n",
       "            \u001b[1m]\u001b[0m\n",
       "        \u001b[1m}\u001b[0m\n",
       "    \u001b[1m]\u001b[0m\n",
       "\u001b[1m}\u001b[0m\n"
      ]
     },
     "metadata": {},
     "output_type": "display_data"
    }
   ],
   "source": [
    "rprint(json.dumps(transformed_data, indent=4))\n"
   ]
  }
 ],
 "metadata": {
  "kernelspec": {
   "display_name": "awspy312",
   "language": "python",
   "name": "python3"
  },
  "language_info": {
   "codemirror_mode": {
    "name": "ipython",
    "version": 3
   },
   "file_extension": ".py",
   "mimetype": "text/x-python",
   "name": "python",
   "nbconvert_exporter": "python",
   "pygments_lexer": "ipython3",
   "version": "3.12.2"
  }
 },
 "nbformat": 4,
 "nbformat_minor": 2
}
